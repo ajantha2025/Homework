{
 "cells": [
  {
   "cell_type": "markdown",
   "id": "3a3aa3b3",
   "metadata": {},
   "source": [
    "## 1.What does Pandas stand for?\n",
    "- Panel Data — it's used for data analysis in Python.\n",
    "## 2.What are the 2 collections used in Pandas?\n",
    "- Series\n",
    "- Dataframe\n",
    "## 3.Name 4 things Pandas can do for us.\n",
    "- Clean data\n",
    "- Sort and filter\n",
    "- Merge tables\n",
    "- Analyze and summarize\n",
    "## 4.To permanently sort a DataFrame, which keyword should one use with the df.sort() method?\n",
    "- *inplace=True*\n",
    "## 5.What is a CSV?\n",
    "- A Comma-Separated Values file — stores table data as plain text.\n",
    "## 6.When cleaning data what values do we not like in our data?\n",
    "- Missing values\n",
    "- Duplicates\n",
    "- Outliers\n",
    "- Wrong formats"
   ]
  },
  {
   "cell_type": "code",
   "execution_count": 2,
   "id": "954bb932",
   "metadata": {},
   "outputs": [
    {
     "name": "stdout",
     "output_type": "stream",
     "text": [
      "array is: [ 0  1  2  3  4  5  6  7  8  9 10 11]\n",
      "The Reshaped array is:\n",
      " [[[ 0  1]\n",
      "  [ 2  3]\n",
      "  [ 4  5]]\n",
      "\n",
      " [[ 6  7]\n",
      "  [ 8  9]\n",
      "  [10 11]]]\n"
     ]
    }
   ],
   "source": [
    "#7.Import NumPy, create an array with a shape of (2, 3, 2).\n",
    "import numpy as np\n",
    "arr1 =np.arange(12)\n",
    "print (\"array is:\",arr1)\n",
    "#Reshape it into an array with shape (2, 3, 2).\n",
    "reshapedArray = arr1.reshape((2,3,2))\n",
    "print(\"The Reshaped array is:\\n\",reshapedArray)\n"
   ]
  },
  {
   "cell_type": "code",
   "execution_count": 25,
   "id": "0cb16b57",
   "metadata": {},
   "outputs": [
    {
     "name": "stdout",
     "output_type": "stream",
     "text": [
      "Linearly spaced array: [ 0.  4.  8. 12. 16. 20.]\n",
      "Deepcopy array: [ 0.  4.  8. 12. 16. 20.]\n"
     ]
    }
   ],
   "source": [
    "#8.Use NumPy .linspace() to create an array with 6 linearly spaced values between 0 and 20.\n",
    "import numpy as np\n",
    "arr = np.linspace(0,20,num = 6)\n",
    "print (\"Linearly spaced array:\",arr)\n",
    "#9.Make a Deep Copy of the above array\n",
    "deepcopy_arr = arr.copy()\n",
    "print(\"Deepcopy array:\",deepcopy_arr)\n"
   ]
  },
  {
   "cell_type": "code",
   "execution_count": 2,
   "id": "4e38751a",
   "metadata": {},
   "outputs": [
    {
     "name": "stdout",
     "output_type": "stream",
     "text": [
      "New concated array is:\n",
      " [[25 16]\n",
      " [11  2]\n",
      " [13  4]\n",
      " [ 7 81]\n",
      " [ 5  6]\n",
      " [11 12]]\n",
      "sorted array is: [ 2  4  5  6  7 11 11 12 13 16 25 81]\n"
     ]
    }
   ],
   "source": [
    "#10.Concatenate these 3 arrays into a new array named 'newArray'...\n",
    "import numpy as np\n",
    "array1 = np.array([[25, 16]])\n",
    "array2 = np.array([[11, 2], [13, 4]])\n",
    "array3 = np.array([[7, 81], [5, 6], [11,12]])\n",
    "#concatenating 3 arrays row wise vertically(axis=0)\n",
    "newArray = np.concat((array1,array2,array3),axis=0)\n",
    "print (\"New concated array is:\\n\",newArray)\n",
    "#11.Sort 'newArray' in order into 'sortedArray'\n",
    "sotedArray=np.sort(newArray,axis=None)\n",
    "print(\"sorted array is:\",sotedArray)"
   ]
  },
  {
   "cell_type": "code",
   "execution_count": 3,
   "id": "337d1cb8",
   "metadata": {},
   "outputs": [
    {
     "name": "stdout",
     "output_type": "stream",
     "text": [
      "The Reshaped array is:\n",
      " [[[ 0  1]\n",
      "  [ 2  3]\n",
      "  [ 4  5]]\n",
      "\n",
      " [[ 6  7]\n",
      "  [ 8  9]\n",
      "  [10 11]]]\n",
      "First row of Block 1: [0 1]\n",
      "Second row of Block 1: [2 3]\n",
      "First row of Block 2: [6 7]\n",
      "Second row of Block 2: [8 9]\n"
     ]
    }
   ],
   "source": [
    "#12.Unpack the array tuples from the above 'reshapedArray' into 4 well named variables.\n",
    "import numpy as np\n",
    "\n",
    "# Create and reshape the array\n",
    "arr1 = np.arange(12)\n",
    "reshapedArray = arr1.reshape(2, 3, 2)\n",
    "print(\"The Reshaped array is:\\n\",reshapedArray)\n",
    "\n",
    "# Unpack 4 row tuples from the reshaped array\n",
    "first_row_block1 = reshapedArray[0][0] # block1 row1 of reshapearr [0 1]\n",
    "second_row_block1 = reshapedArray[0][1] # block1 row2 of reshapearr [2 3]\n",
    "first_row_block2= reshapedArray[1][0] # block2 row1 of reshapearr [6 7]\n",
    "second_row_block2 = reshapedArray[1][1] # block2 row2 of reshapearr [8 9]\n",
    "# Print the variables\n",
    "print(\"First row of Block 1:\", first_row_block1)\n",
    "print(\"Second row of Block 1:\", second_row_block1)\n",
    "print(\"First row of Block 2:\", first_row_block2)\n",
    "print(\"Second row of Block 2:\", second_row_block2)\n",
    "\n",
    "\n"
   ]
  },
  {
   "cell_type": "code",
   "execution_count": 25,
   "id": "6d4d883b",
   "metadata": {},
   "outputs": [
    {
     "name": "stdout",
     "output_type": "stream",
     "text": [
      "The sorted array is:\n",
      " [ 0  1  2  3  4  5  6  7 10 11 12 13 14 15 16 17 20 21 22 23 24 25 26 27]\n"
     ]
    }
   ],
   "source": [
    "# 13. Combined and sort the arrays into one called 'comboArray' ...\n",
    "import numpy as np\n",
    "one =np.array([10,11,12,13,14,15,16,17])\n",
    "two =np.array([20, 21, 22, 23, 24, 25, 26, 27])\n",
    "three =np.array([ 0, 1, 2, 3, 4, 5, 6, 7])\n",
    "# Combine and sort\n",
    "comboArray = np.concatenate((one,two,three))\n",
    "comboArray.sort()\n",
    "# print the sorted array\n",
    "print(\"The sorted array is:\\n\",comboArray)\n",
    "\n"
   ]
  },
  {
   "cell_type": "code",
   "execution_count": 26,
   "id": "81fb3691",
   "metadata": {},
   "outputs": [
    {
     "name": "stdout",
     "output_type": "stream",
     "text": [
      "sec1 is: 1\n",
      "sec2 is: [ 2  3  4  5  6  7 10 11 12 13 14 15 16 17 20 21 22 23 24 25 26 27]\n",
      "sec3 is: [ 3  4  5  6  7 10 11 12 13 14 15]\n",
      "sec4 is: [22 23 24 25 26 27]\n",
      "sec5 is: [ 0  1  2  3  4  5  6  7 10 11 12 13 14 15 16 17]\n",
      "sec6 is: [24 26]\n",
      "sec7 is: [27 22 15 10  3]\n"
     ]
    }
   ],
   "source": [
    "#14.Take 'comboArray' and perform the following slicing activities:\n",
    "\n",
    "# print sec1 - the 2nd element\n",
    "sec1 = comboArray[1]\n",
    "print(\"sec1 is:\",sec1)\n",
    "\n",
    "# print sec2 - all elements from the 3rd element to the last\n",
    "sec2 = comboArray[2:]\n",
    "print(\"sec2 is:\",sec2)\n",
    "\n",
    "# print sec3 - all elements from the 4th to the 14th elements\n",
    "sec3 = comboArray[3:14]\n",
    "print(\"sec3 is:\",sec3)\n",
    "\n",
    "# print sec4 - the last 6 elements\n",
    "sec4 = comboArray[-6:]\n",
    "print(\"sec4 is:\",sec4)\n",
    "\n",
    "# print sec5 - all element from #0 up to and including #15, using the negative number method\n",
    "sec5 = comboArray[-24:-8]\n",
    "print(\"sec5 is:\",sec5)\n",
    "\n",
    "#print sec6 - from #20 every even element to the end\n",
    "sec6 = comboArray[20::2]\n",
    "print(\"sec6 is:\", sec6)\n",
    "\n",
    "# print sec7 - from the last element moving forward, every 5th element.\n",
    "sec7 = comboArray[-1::-5]\n",
    "print(\"sec7 is:\",sec7)\n"
   ]
  },
  {
   "cell_type": "code",
   "execution_count": 7,
   "id": "98706624",
   "metadata": {},
   "outputs": [
    {
     "name": "stdout",
     "output_type": "stream",
     "text": [
      "        Dinner\n",
      "Flour   4 cups\n",
      "Milk     1 cup\n",
      "Eggs   2 large\n",
      "Spam     1 can\n",
      "Dinner    object\n",
      "dtype: object\n"
     ]
    }
   ],
   "source": [
    "#15. Using Series, create a DataFrame\n",
    "import pandas as pd\n",
    "dinner_series = pd.Series({'Flour':'4 cups',\n",
    "                           'Milk':'1 cup',\n",
    "                           'Eggs':'2 large',\n",
    "                           'Spam':'1 can'},\n",
    "                           name='Dinner')\n",
    "# convert series to Dataframe\n",
    "df = pd.DataFrame(dinner_series)\n",
    "print(df)\n",
    "print(df.dtypes)"
   ]
  },
  {
   "cell_type": "code",
   "execution_count": 27,
   "id": "16dbff68",
   "metadata": {},
   "outputs": [
    {
     "name": "stdout",
     "output_type": "stream",
     "text": [
      "      Name  Height Qualification  address  Age        Pets           sport\n",
      "0      Jai     5.1           Msc    Delhi   21         Dog           Darts\n",
      "1  janusha     6.2            MA     Doha   23       Bunny      Basketball\n",
      "2   Gaurav     5.1           Msc  Chennai   24  Chinchilla  PaddleBoarding\n",
      "3     Anuj     5.2           Msc   Dakhar   21      Parrot         Cricket\n"
     ]
    }
   ],
   "source": [
    "#16.Take this data and create a DataFrame named studentData\n",
    "import pandas as pd\n",
    "\n",
    "data = {'Name': ['Jai', 'janusha', 'Gaurav', 'Anuj'],\n",
    "        'Height': [5.1, 6.2, 5.1, 5.2],\n",
    "        'Qualification': ['Msc', 'MA', 'Msc', 'Msc'],\n",
    "        'address': ['Delhi', 'Doha', 'Chennai', 'Dakhar'],\n",
    "        'Age': [21, 23, 24, 21],\n",
    "        'Pets': ['Dog', 'Bunny', 'Chinchilla', 'Parrot'],\n",
    "        'sport': ['Darts', 'Basketball', 'PaddleBoarding', 'Cricket']\n",
    "\n",
    "         }\n",
    "studentData = pd.DataFrame(data)\n",
    "print(studentData)\n",
    "\n"
   ]
  },
  {
   "cell_type": "code",
   "execution_count": null,
   "id": "d7fa4194",
   "metadata": {},
   "outputs": [
    {
     "name": "stdout",
     "output_type": "stream",
     "text": [
      "      Name  Height Qualification  address  Age        Pets           sport  \\\n",
      "0      Jai     5.1           Msc    Delhi   21         Dog           Darts   \n",
      "1  janusha     6.2            MA     Doha   23       Bunny      Basketball   \n",
      "2   Gaurav     5.1           Msc  Chennai   24  Chinchilla  PaddleBoarding   \n",
      "3     Anuj     5.2           Msc   Dakhar   21      Parrot         Cricket   \n",
      "\n",
      "        deserts  \n",
      "0     ice cream  \n",
      "1  Cashew Fudge  \n",
      "2       waffels  \n",
      "3  Carrot Halwa  \n"
     ]
    }
   ],
   "source": [
    "# 17. Add a new column to the DataFrame\n",
    "studentData[\"deserts\"]=[\"ice cream\", \"Cashew Fudge\", \"waffels\", \"Carrot Halwa\"]\n",
    "print(studentData)\n",
    "\n"
   ]
  },
  {
   "cell_type": "code",
   "execution_count": 33,
   "id": "ebff4942",
   "metadata": {},
   "outputs": [
    {
     "name": "stdout",
     "output_type": "stream",
     "text": [
      "      Name  Height Qualification  address  Age        Pets           sport  \\\n",
      "3     Anuj     5.2           Msc   Dakhar   21      Parrot         Cricket   \n",
      "2   Gaurav     5.1           Msc  Chennai   24  Chinchilla  PaddleBoarding   \n",
      "0      Jai     5.1           Msc    Delhi   21         Dog           Darts   \n",
      "1  janusha     6.2            MA     Doha   23       Bunny      Basketball   \n",
      "\n",
      "        deserts  \n",
      "3  Carrot Halwa  \n",
      "2       waffels  \n",
      "0     ice cream  \n",
      "1  Cashew Fudge  \n"
     ]
    }
   ],
   "source": [
    "#18.Sort the 'studentData' DataFrame in Ascending order \n",
    "#Sorting by column 'Name' and then \"address\"\n",
    "studentData = studentData.sort_values(by=['Name', 'address'], ascending=[True, True])\n",
    "print(studentData)"
   ]
  },
  {
   "cell_type": "code",
   "execution_count": 37,
   "id": "55ca83a9",
   "metadata": {},
   "outputs": [],
   "source": [
    "#19.Save this DataFrame here below to disc as a .CSV file with the name cows_and_goats.csv:\n",
    "\n",
    "import pandas as pd\n",
    "\n",
    "# Create the DataFrame\n",
    "df = pd.DataFrame({\n",
    "    'Cows': [12, 20],\n",
    "    'Goats': [22, 19]\n",
    "}, index=['Year 1', 'Year 2'])\n",
    "\n",
    "# Save the DataFrame to a CSV file\n",
    "df.to_csv('cows_and_goats.csv')"
   ]
  },
  {
   "cell_type": "code",
   "execution_count": 51,
   "id": "95e88034",
   "metadata": {},
   "outputs": [
    {
     "name": "stdout",
     "output_type": "stream",
     "text": [
      "      name  colour  price_per_lb\n",
      "0   carrot  orange             5\n",
      "1  cabbage   green             4\n",
      "2  spinach   green            10\n",
      "3   tomato     red             8\n"
     ]
    }
   ],
   "source": [
    "#20.(A) Using Pandas, make your own .CSV file with data on vegetables \n",
    "import pandas as pd\n",
    "vegetables = {'name':['carrot','cabbage','spinach','tomato'],\n",
    "              'colour':['orange','green','green','red'],\n",
    "              'price_per_lb':[5,4,10,8],\n",
    "              }\n",
    "df = pd.DataFrame(vegetables)\n",
    "print(df)\n",
    "df.to_csv('vegitables.csv')\n",
    "\n",
    " "
   ]
  },
  {
   "cell_type": "code",
   "execution_count": null,
   "id": "0d122310",
   "metadata": {},
   "outputs": [
    {
     "name": "stdout",
     "output_type": "stream",
     "text": [
      "   Unnamed: 0     name  colour  price_per_lb  Eaten_Raw\n",
      "0           0   carrot  orange             5       True\n",
      "1           1  cabbage   green             4      False\n",
      "2           2  spinach   green            10      False\n",
      "3           3   tomato     red             8       True\n"
     ]
    }
   ],
   "source": [
    "#  (B) Using Pandas, make a change to your CSV file, and save a copy with a different name.\n",
    "# Read the original CSV\n",
    "df = pd.read_csv('vegitables.csv')\n",
    "\n",
    "# Add a new column\n",
    "df['Eaten_Raw'] = [True,False,False,True]\n",
    "\n",
    "# Save the modified DataFrame to a new CSV file\n",
    "df.to_csv('vegetables_updated.csv')\n",
    "print(df)\n",
    "\n",
    "\n"
   ]
  }
 ],
 "metadata": {
  "kernelspec": {
   "display_name": "Python 3",
   "language": "python",
   "name": "python3"
  },
  "language_info": {
   "codemirror_mode": {
    "name": "ipython",
    "version": 3
   },
   "file_extension": ".py",
   "mimetype": "text/x-python",
   "name": "python",
   "nbconvert_exporter": "python",
   "pygments_lexer": "ipython3",
   "version": "3.13.5"
  }
 },
 "nbformat": 4,
 "nbformat_minor": 5
}
