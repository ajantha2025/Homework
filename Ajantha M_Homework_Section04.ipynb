{
 "cells": [
  {
   "cell_type": "markdown",
   "id": "f6c36a06",
   "metadata": {},
   "source": [
    "## 1.What does one need to do to use a module?\n",
    "- To use module, we can use the `import` statement in our code to make the module's functions and variables available for use. \n",
    "\n",
    "## 2.Python Module Example: `random`\n",
    "\n",
    "- The `random` module lets you generate random numbers or make random choices.\n",
    "\n",
    "```python\n",
    "import random\n",
    "\n",
    "lucky_number = random.randint(1, 100)\n",
    "print(f\"Your lucky number is: {lucky_number}\")\n",
    "\n",
    "```\n",
    "\n",
    "## 3.What is a benefit of using Exception handling?\n",
    "- Exception handling helps our program manage errors gracefully.\n",
    "- when error is raised in the try block, the except block will be executed. Without the try block, the program will crash. With this code device we can keep going past many errors.\n",
    "\n",
    "## 4.what are the 4 components used for Python Exception Handling?\n",
    "1. **try**  \n",
    "   - The `try` block lets you test a block of code for errors.\n",
    "\n",
    "2. **except**  \n",
    "   - The `except` block lets you handle the error.\n",
    "\n",
    "3. **else**  \n",
    "   - The `else` block lets you execute code when there is no error.\n",
    "\n",
    "4. **finally**  \n",
    "   - The `finally` block lets you execute code, regardless of the result of the try and except blocks.\n",
    "\n",
    "## 5.NumPy arrays are like what Python data type?\n",
    "- NumPy Arrays are similar to lists except lists store various data types, while Arrays store only 1 specified data type.\n",
    "\n",
    "## 6.What is one of the main benefits of using NumPy arrays.\n",
    "- NumPy arrays are faster and more memory-efficient than Python lists, especially for numerical operations.\n",
    "\n",
    "## 7.What is one of the main requirements about the 'dtype' of NumPy arrays? \n",
    "- All elements must have the **same data type** (`dtype`) for efficient storage.\n",
    "\n",
    "## 8.Of the 10 uses of NumPy, name 2.\n",
    "- Arithmetic operations\n",
    "- Mathematical operations\n",
    "\n",
    "\n",
    "## 9.Name one of the other libraries we'll use with NumPy?\n",
    "- One commonly used library alongside NumPy is Pandas.\n",
    "\n",
    "## 10.What is the shape of NumPy arrays?\n",
    "- A tuple showing the number of elements along each dimension \n",
    "- Example: `(3, 4)` for 3 rows and 4 columns.\n",
    "\n",
    "## 11.What is a Tensor?\n",
    "- A multi-dimensional array used to represent data in deep learning and scientific computing.\n",
    "\n",
    "## 12.Name a reason why it's better using NumPy for Data Analysis than using a Python List?\n",
    "-  NumPy is better for data analysis because it handles large datasets efficiently  with faster computations and less memory usage than Python lists.\n",
    "\n",
    "## 13.When creating an \"empty\" array, where do the elements come from?\n",
    "-  They come from leftover memory and contain random values until we set them."
   ]
  },
  {
   "cell_type": "code",
   "execution_count": null,
   "id": "0fc18b31",
   "metadata": {},
   "outputs": [
    {
     "name": "stdout",
     "output_type": "stream",
     "text": [
      "Renting a car is more affordable.\n"
     ]
    }
   ],
   "source": [
    "# FLOW CONTROL METHODS:\n",
    "#1. Create an if statement\n",
    "\n",
    "age = 27\n",
    "if age >= 25:\n",
    "    print(\"Renting a car is more affordable.\")\n",
    "else:\n",
    "    print(\"Renting a car is very expensive.\")    "
   ]
  },
  {
   "cell_type": "code",
   "execution_count": 3,
   "id": "74b97dba",
   "metadata": {},
   "outputs": [
    {
     "name": "stdout",
     "output_type": "stream",
     "text": [
      "You cannot legally rent a car.\n"
     ]
    }
   ],
   "source": [
    "#2. Create and chain an if-else statement: \n",
    "\n",
    "age = 17\n",
    "if age >= 25:\n",
    "    print(\"Renting a car is more affordable.\")\n",
    "elif age >= 18:\n",
    "    print(\"Renting a car is very expensive.\" )\n",
    "else:\n",
    "    print(\"You cannot legally rent a car.\")         "
   ]
  },
  {
   "cell_type": "code",
   "execution_count": 22,
   "id": "9b9fa9c6",
   "metadata": {},
   "outputs": [
    {
     "name": "stdout",
     "output_type": "stream",
     "text": [
      "Total number of characters: 43\n",
      "vowels found ['e', 'u', 'i', 'o', 'o', 'u', 'o', 'e', 'e', 'a', 'o']\n"
     ]
    }
   ],
   "source": [
    "# 3. Loop over the following string\n",
    "# (1) count all the characters in the string\n",
    "text = \"The quick brown fox jumps over the lazy dog\"\n",
    "vowels = \"aeiouAEIOU\"\n",
    "char_count = 0\n",
    "found_vowels = []\n",
    "for char in text:\n",
    "    char_count += 1\n",
    "    if char in vowels:\n",
    "        found_vowels.append(char)\n",
    "print(\"Total number of characters:\", char_count)\n",
    "# (2) print out all the vowels\n",
    "print(\"vowels found\", found_vowels)\n"
   ]
  },
  {
   "cell_type": "code",
   "execution_count": 24,
   "id": "f9887772",
   "metadata": {},
   "outputs": [
    {
     "name": "stdout",
     "output_type": "stream",
     "text": [
      "fuchsia trousers\n",
      "maple trousers\n",
      "burnt sienna trousers\n",
      "auburn trousers\n",
      "aqua trousers\n",
      "gunmetal blue trousers\n",
      "Dark Sapphire trousers\n",
      "cerise trousers\n",
      "fuchsia blouse\n",
      "maple blouse\n",
      "burnt sienna blouse\n",
      "auburn blouse\n",
      "aqua blouse\n",
      "gunmetal blue blouse\n",
      "Dark Sapphire blouse\n",
      "cerise blouse\n",
      "fuchsia bandana\n",
      "maple bandana\n",
      "burnt sienna bandana\n",
      "auburn bandana\n",
      "aqua bandana\n",
      "gunmetal blue bandana\n",
      "Dark Sapphire bandana\n",
      "cerise bandana\n",
      "fuchsia cumber band\n",
      "maple cumber band\n",
      "burnt sienna cumber band\n",
      "auburn cumber band\n",
      "aqua cumber band\n",
      "gunmetal blue cumber band\n",
      "Dark Sapphire cumber band\n",
      "cerise cumber band\n",
      "fuchsia blazer\n",
      "maple blazer\n",
      "burnt sienna blazer\n",
      "auburn blazer\n",
      "aqua blazer\n",
      "gunmetal blue blazer\n",
      "Dark Sapphire blazer\n",
      "cerise blazer\n",
      "fuchsia vest\n",
      "maple vest\n",
      "burnt sienna vest\n",
      "auburn vest\n",
      "aqua vest\n",
      "gunmetal blue vest\n",
      "Dark Sapphire vest\n",
      "cerise vest\n",
      "fuchsia french beret\n",
      "maple french beret\n",
      "burnt sienna french beret\n",
      "auburn french beret\n",
      "aqua french beret\n",
      "gunmetal blue french beret\n",
      "Dark Sapphire french beret\n",
      "cerise french beret\n",
      "fuchsia scarf\n",
      "maple scarf\n",
      "burnt sienna scarf\n",
      "auburn scarf\n",
      "aqua scarf\n",
      "gunmetal blue scarf\n",
      "Dark Sapphire scarf\n",
      "cerise scarf\n",
      "fuchsia stole\n",
      "maple stole\n",
      "burnt sienna stole\n",
      "auburn stole\n",
      "aqua stole\n",
      "gunmetal blue stole\n",
      "Dark Sapphire stole\n",
      "cerise stole\n"
     ]
    }
   ],
   "source": [
    "# 4.Nested loop\n",
    "couture = [\"trousers\", \"blouse\", \"bandana\", \"cumber band\", \"blazer\", \"vest\", \"french beret\", \"scarf\", \"stole\"]\n",
    "panettone = {\"cerise\", \"fuchsia\", \"aqua\", \"maple\", \"auburn\", \"burnt sienna\", \"gunmetal blue\", \"Dark Sapphire\"}\n",
    "\n",
    "for item in couture:\n",
    "    for color in (panettone):\n",
    "        print(f\"{color} {item}\")\n"
   ]
  },
  {
   "cell_type": "code",
   "execution_count": 28,
   "id": "3245e120",
   "metadata": {},
   "outputs": [
    {
     "name": "stdout",
     "output_type": "stream",
     "text": [
      "Sum of numbers from 1 to 100 is: 5050\n"
     ]
    }
   ],
   "source": [
    "#5.Use range as a loop to calculate the sum of all the numbers from 1 to 100\n",
    "sum = 0\n",
    "\n",
    "for number in range(1, 101):\n",
    "    sum += number\n",
    "\n",
    "print(f\"Sum of numbers from 1 to 100 is: {sum}\")"
   ]
  },
  {
   "cell_type": "code",
   "execution_count": 33,
   "id": "70d0e541",
   "metadata": {},
   "outputs": [
    {
     "name": "stdout",
     "output_type": "stream",
     "text": [
      "The Second item in the list is: banana\n"
     ]
    }
   ],
   "source": [
    "#6.Print the second item in this fruits list. \n",
    "Fruit_list = [\"apple\", \"banana\", \"cherry\"]\n",
    "print(\"The Second item in the list is:\",Fruit_list[1])"
   ]
  },
  {
   "cell_type": "code",
   "execution_count": null,
   "id": "1cb84a6d",
   "metadata": {},
   "outputs": [
    {
     "name": "stdout",
     "output_type": "stream",
     "text": [
      "['kiwi', 'banana', 'cherry']\n"
     ]
    }
   ],
   "source": [
    "#7.Change the value from \"apple\" to \"kiwi\", in the fruits list. \n",
    "Fruit_list = [\"apple\", \"banana\", \"cherry\"]\n",
    "Fruit_list[0]=\"kiwi\"\n",
    "print(Fruit_list)\n"
   ]
  },
  {
   "cell_type": "code",
   "execution_count": 39,
   "id": "c5ad47f2",
   "metadata": {},
   "outputs": [
    {
     "name": "stdout",
     "output_type": "stream",
     "text": [
      "['apple', 'banana', 'cherry', 'orange']\n"
     ]
    }
   ],
   "source": [
    "#8.Use the append method to add \"orange\" to the fruits list. \n",
    "Fruit_list = [\"apple\", \"banana\", \"cherry\"]\n",
    "Fruit_list.append(\"orange\")\n",
    "print(Fruit_list)"
   ]
  },
  {
   "cell_type": "code",
   "execution_count": 40,
   "id": "bdafd2e9",
   "metadata": {},
   "outputs": [
    {
     "name": "stdout",
     "output_type": "stream",
     "text": [
      "['apple', 'lemon', 'banana', 'cherry']\n"
     ]
    }
   ],
   "source": [
    "#9.Use the insert method to add \"lemon\" as the second item in the fruits list. \n",
    "Fruit_list = [\"apple\", \"banana\", \"cherry\"]\n",
    "Fruit_list.insert(1,\"lemon\")\n",
    "print(Fruit_list)"
   ]
  },
  {
   "cell_type": "code",
   "execution_count": 43,
   "id": "a1c40c6f",
   "metadata": {},
   "outputs": [
    {
     "name": "stdout",
     "output_type": "stream",
     "text": [
      "['apple', 'cherry']\n"
     ]
    }
   ],
   "source": [
    "#10.Use the remove method to remove \"banana\" from the fruits list. \n",
    "Fruit_list = [\"apple\", \"banana\", \"cherry\"]\n",
    "Fruit_list.remove(\"banana\")\n",
    "print(Fruit_list)"
   ]
  },
  {
   "cell_type": "code",
   "execution_count": 45,
   "id": "f0e87f59",
   "metadata": {},
   "outputs": [
    {
     "name": "stdout",
     "output_type": "stream",
     "text": [
      "kiwi\n",
      "melon\n"
     ]
    }
   ],
   "source": [
    "#11.Use negative indexing to print the 3rd and 2nd to last items in the list. \n",
    "Fruit_list = [\"apple\", \"banana\", \"cherry\", \"orange\", \"kiwi\", \"melon\", \"mango\"]\n",
    "print(Fruit_list[-3])\n",
    "print(Fruit_list[-2])"
   ]
  },
  {
   "cell_type": "code",
   "execution_count": 46,
   "id": "02254fba",
   "metadata": {},
   "outputs": [
    {
     "name": "stdout",
     "output_type": "stream",
     "text": [
      "['cherry', 'orange', 'kiwi']\n"
     ]
    }
   ],
   "source": [
    "#12.Use a range of indexes to print the third, fourth, and fifth item in the list. \n",
    "Fruit_list = [\"apple\", \"banana\", \"cherry\", \"orange\", \"kiwi\", \"melon\", \"mango\"]\n",
    "print(Fruit_list[2:5])"
   ]
  },
  {
   "cell_type": "code",
   "execution_count": 47,
   "id": "f687c53f",
   "metadata": {},
   "outputs": [
    {
     "name": "stdout",
     "output_type": "stream",
     "text": [
      "Number of items in the list: 7\n"
     ]
    }
   ],
   "source": [
    "#13.Use the correct syntax to print the number of items in the list. \n",
    "Fruit_list = [\"apple\", \"banana\", \"cherry\", \"orange\", \"kiwi\", \"melon\", \"mango\"]\n",
    "print(\"Number of items in the list:\", len(Fruit_list))"
   ]
  },
  {
   "cell_type": "code",
   "execution_count": 53,
   "id": "65ebeaba",
   "metadata": {},
   "outputs": [
    {
     "name": "stdout",
     "output_type": "stream",
     "text": [
      "Sorted list: ['orange', 'melon', 'mango', 'kiwi', 'cherry', 'banana', 'apple']\n"
     ]
    }
   ],
   "source": [
    "#14.Use the correct syntax to sort this list in reverse order.\n",
    "Fruit_list = [\"apple\", \"banana\", \"cherry\", \"orange\", \"kiwi\", \"melon\", \"mango\"]\n",
    "Fruit_list.sort(reverse=True)\n",
    "print(\"Sorted list:\",Fruit_list)\n",
    "\n"
   ]
  }
 ],
 "metadata": {
  "kernelspec": {
   "display_name": "Python 3",
   "language": "python",
   "name": "python3"
  },
  "language_info": {
   "codemirror_mode": {
    "name": "ipython",
    "version": 3
   },
   "file_extension": ".py",
   "mimetype": "text/x-python",
   "name": "python",
   "nbconvert_exporter": "python",
   "pygments_lexer": "ipython3",
   "version": "3.13.5"
  }
 },
 "nbformat": 4,
 "nbformat_minor": 5
}
