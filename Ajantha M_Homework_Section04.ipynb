{
 "cells": [
  {
   "cell_type": "markdown",
   "id": "c7d1da56",
   "metadata": {},
   "source": [
    "## Flow Control Methods:"
   ]
  },
  {
   "cell_type": "code",
   "execution_count": 2,
   "id": "0fc18b31",
   "metadata": {},
   "outputs": [
    {
     "name": "stdout",
     "output_type": "stream",
     "text": [
      "Renting a car is more affordable.\n"
     ]
    }
   ],
   "source": [
    "#1. Create an if statement\n",
    "\n",
    "age = 27\n",
    "if age >= 25:\n",
    "    print(\"Renting a car is more affordable.\")\n",
    "else:\n",
    "    print(\"Renting a car is very expensive.\")    "
   ]
  },
  {
   "cell_type": "code",
   "execution_count": 3,
   "id": "74b97dba",
   "metadata": {},
   "outputs": [
    {
     "name": "stdout",
     "output_type": "stream",
     "text": [
      "You cannot legally rent a car.\n"
     ]
    }
   ],
   "source": [
    "#2. Create and chain an if-else statement: \n",
    "\n",
    "age = 17\n",
    "if age >= 25:\n",
    "    print(\"Renting a car is more affordable.\")\n",
    "elif age >= 18:\n",
    "    print(\"Renting a car is very expensive.\" )\n",
    "else:\n",
    "    print(\"You cannot legally rent a car.\")         "
   ]
  },
  {
   "cell_type": "code",
   "execution_count": 5,
   "id": "1656d145",
   "metadata": {},
   "outputs": [
    {
     "name": "stdout",
     "output_type": "stream",
     "text": [
      "vowels found in the string\n",
      "euioouoeeao\n",
      "Total number of characters:\n",
      " 43\n"
     ]
    }
   ],
   "source": [
    "#3. Loop over the following string\n",
    "\n",
    "# (1) count all the characters in the string\n",
    "Text = \"The quick brown fox jumps over the lazy dog\"\n",
    "count = 0\n",
    "vowels = \"aeiouAEIOU\"\n",
    "print(\"vowels found in the string\")\n",
    "for char in Text:\n",
    "    count +=1\n",
    "    if char in vowels:\n",
    "     print(char, end=\"\")\n",
    "     \n",
    "\n",
    "print(\"\\nTotal number of characters:\\n\",count)"
   ]
  },
  {
   "cell_type": "code",
   "execution_count": 6,
   "id": "f9887772",
   "metadata": {},
   "outputs": [
    {
     "name": "stdout",
     "output_type": "stream",
     "text": [
      "fuchsia trousers\n",
      "aqua trousers\n",
      "auburn trousers\n",
      "burnt sienna trousers\n",
      "cerise trousers\n",
      "maple trousers\n",
      "gunmetal blue trousers\n",
      "Dark Sapphire trousers\n",
      "fuchsia blouse\n",
      "aqua blouse\n",
      "auburn blouse\n",
      "burnt sienna blouse\n",
      "cerise blouse\n",
      "maple blouse\n",
      "gunmetal blue blouse\n",
      "Dark Sapphire blouse\n",
      "fuchsia bandana\n",
      "aqua bandana\n",
      "auburn bandana\n",
      "burnt sienna bandana\n",
      "cerise bandana\n",
      "maple bandana\n",
      "gunmetal blue bandana\n",
      "Dark Sapphire bandana\n",
      "fuchsia cumber band\n",
      "aqua cumber band\n",
      "auburn cumber band\n",
      "burnt sienna cumber band\n",
      "cerise cumber band\n",
      "maple cumber band\n",
      "gunmetal blue cumber band\n",
      "Dark Sapphire cumber band\n",
      "fuchsia blazer\n",
      "aqua blazer\n",
      "auburn blazer\n",
      "burnt sienna blazer\n",
      "cerise blazer\n",
      "maple blazer\n",
      "gunmetal blue blazer\n",
      "Dark Sapphire blazer\n",
      "fuchsia vest\n",
      "aqua vest\n",
      "auburn vest\n",
      "burnt sienna vest\n",
      "cerise vest\n",
      "maple vest\n",
      "gunmetal blue vest\n",
      "Dark Sapphire vest\n",
      "fuchsia french beret\n",
      "aqua french beret\n",
      "auburn french beret\n",
      "burnt sienna french beret\n",
      "cerise french beret\n",
      "maple french beret\n",
      "gunmetal blue french beret\n",
      "Dark Sapphire french beret\n",
      "fuchsia scarf\n",
      "aqua scarf\n",
      "auburn scarf\n",
      "burnt sienna scarf\n",
      "cerise scarf\n",
      "maple scarf\n",
      "gunmetal blue scarf\n",
      "Dark Sapphire scarf\n",
      "fuchsia stole\n",
      "aqua stole\n",
      "auburn stole\n",
      "burnt sienna stole\n",
      "cerise stole\n",
      "maple stole\n",
      "gunmetal blue stole\n",
      "Dark Sapphire stole\n"
     ]
    }
   ],
   "source": [
    "# 4.Nested loop\n",
    "couture = [\"trousers\", \"blouse\", \"bandana\", \"cumber band\", \"blazer\", \"vest\", \"french beret\", \"scarf\", \"stole\"]\n",
    "panettone = {\"cerise\", \"fuchsia\", \"aqua\", \"maple\", \"auburn\", \"burnt sienna\", \"gunmetal blue\", \"Dark Sapphire\"}\n",
    "\n",
    "for item in couture:\n",
    "    for color in panettone:\n",
    "        print(f\"{color} {item}\")\n"
   ]
  }
 ],
 "metadata": {
  "kernelspec": {
   "display_name": "Python 3",
   "language": "python",
   "name": "python3"
  },
  "language_info": {
   "codemirror_mode": {
    "name": "ipython",
    "version": 3
   },
   "file_extension": ".py",
   "mimetype": "text/x-python",
   "name": "python",
   "nbconvert_exporter": "python",
   "pygments_lexer": "ipython3",
   "version": "3.13.5"
  }
 },
 "nbformat": 4,
 "nbformat_minor": 5
}
