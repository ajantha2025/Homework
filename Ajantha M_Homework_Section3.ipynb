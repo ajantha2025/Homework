{
 "cells": [
  {
   "cell_type": "code",
   "execution_count": null,
   "id": "c02760f6",
   "metadata": {},
   "outputs": [
    {
     "name": "stdout",
     "output_type": "stream",
     "text": [
      "Ajantha Medarametla,\n",
      "Chicken Pizza,\n",
      "Data Analyst\n"
     ]
    }
   ],
   "source": [
    "# Multi-line string with name, favorite food, and dream job\n",
    "My_information = \"\"\"Ajantha Medarametla,\n",
    "Chicken Pizza,\n",
    "Data Analyst\"\"\"\n",
    "print(My_information)"
   ]
  },
  {
   "cell_type": "code",
   "execution_count": null,
   "id": "01fb4dca",
   "metadata": {},
   "outputs": [
    {
     "name": "stdout",
     "output_type": "stream",
     "text": [
      "The length of string is : 6\n",
      "The index value of the 4th character is: h\n"
     ]
    }
   ],
   "source": [
    "# Assigning 5 different data types\n",
    "My_String = \"Python\"\n",
    "My_Int = 200\n",
    "My_Float = 30.5\n",
    "My_Bool = True\n",
    "My_List = [3,6,9]\n",
    "\n",
    "# Print the length of the string\n",
    "print(\"The length of string is :\", len(My_String))\n",
    "\n",
    "# Print the index value of the 4th character (index 3)\n",
    "print(\"The index value of the 4th character is:\", My_String[3])\n",
    "\n"
   ]
  },
  {
   "cell_type": "code",
   "execution_count": null,
   "id": "4dece954",
   "metadata": {},
   "outputs": [
    {
     "name": "stdout",
     "output_type": "stream",
     "text": [
      "Slice range is: ing Data Analytics \n",
      "Updated savvy string: Learning Data Analytics and Python is great!\n",
      "Does savvy contain 'Python'? True\n"
     ]
    }
   ],
   "source": [
    "# Create the variable Savvy\n",
    "Savvy = \"Learning Data Analytics and Python is Awesome!\"\n",
    "\n",
    "# Slices the above string from the beginning of \"ing\" up to before \"and\"\n",
    "slice_range = Savvy[Savvy.find(\"ing\"):Savvy.find(\"and\")]\n",
    "print(\"Slice range is:\", slice_range)\n",
    "\n",
    "# Replace \"Awesome\" with \"great\"\n",
    "Savvy = Savvy.replace(\"Awesome\", \"great\")\n",
    "print(\"Updated savvy string:\", Savvy)\n",
    "\n",
    "# Test if \"Python\" is in the savvy string\n",
    "print(\"Does savvy contain 'Python'?\", \"Python\" in Savvy)"
   ]
  },
  {
   "cell_type": "code",
   "execution_count": null,
   "id": "fe5bdff5",
   "metadata": {},
   "outputs": [
    {
     "name": "stdout",
     "output_type": "stream",
     "text": [
      "Hi my name is Abhi, I am 10 and 121.3 cm old today.\n",
      "10.0\n"
     ]
    }
   ],
   "source": [
    "# Multi-variable assignment\n",
    "Name,Age,Length = \"Abhi\",10,\"121.3 cm\"\n",
    "\n",
    "# Formatting String\n",
    "miniBio = f\"Hi my name is {Name}, I am {Age} and {Length} old today.\"\n",
    "\n",
    "# Print the formatted string\n",
    "print (miniBio)\n",
    "\n",
    "# Cast age to float and print\n",
    "print(float(Age))\n",
    "\n"
   ]
  },
  {
   "cell_type": "code",
   "execution_count": null,
   "id": "a40f90e1",
   "metadata": {},
   "outputs": [
    {
     "name": "stdout",
     "output_type": "stream",
     "text": [
      "Updated list is: ['Hiking', 2025, 3.14, True, ['Park', 'Trees']]\n",
      "Append List is: ['Hiking', 2025, 3.14, True, ['Park', 'Trees'], 'Snacks', False, ['Water', 'Sunscreen']]\n",
      "Insert list is:  ['Hiking', 1995, 'Water', 2025, 3.14, True, ['Park', 'Trees'], 'Snacks', False, ['Water', 'Sunscreen']]\n",
      "The length of the list is: 10\n",
      "The Sliced list is: ['Hiking', 1995, 'Water']\n",
      "The extended list is: ['Hiking', 1995, 'Water', 2025, 3.14, True, ['Park', 'Trees'], 'Snacks', False, ['Water', 'Sunscreen'], 'Hiking', 1995, 'Water']\n",
      "The sorted simlist is: [10, 15, 25, 30, 55]\n",
      "The fourth list is: ['Hiking', 1995, 'Water', 10, 15, 25, 30, 55]\n"
     ]
    }
   ],
   "source": [
    "# Create a list of mixed data types\n",
    "Mixed_List = [\"Picnic\", 2025, 3.14, True, [\"Park\", \"Trees\"]]\n",
    "\n",
    "# Replace a part of it with something else\n",
    "Mixed_List [0] = \"Hiking\"\n",
    "print(\"Updated list is:\",Mixed_List)\n",
    "\n",
    "# Append more items to the list\n",
    "Mixed_List.append(\"Snacks\")\n",
    "Mixed_List.append(False)\n",
    "Mixed_List.append([\"Water\",\"Sunscreen\"])\n",
    "print(\"Append List is:\", Mixed_List)\n",
    "\n",
    "# Insert more items to the list\n",
    "Mixed_List.insert(1,1995)\n",
    "Mixed_List.insert(2,\"Water\")\n",
    "print(\"Insert list is: \" ,Mixed_List)\n",
    "\n",
    "# Find and print the length of the list\n",
    "print(\"The length of the list is:\" ,len(Mixed_List))\n",
    "\n",
    "# Slice a sub-section of the 1st list\n",
    "Secondlist = Mixed_List[0:3]\n",
    "print(\"The Sliced list is:\",Secondlist)\n",
    "\n",
    "# Extend the original list\n",
    "Mixed_List.extend(Secondlist)\n",
    "print(\"The extended list is:\",Mixed_List)\n",
    "\n",
    "# Create simList with same data type\n",
    "Simlist = [10,55,30,25,15]\n",
    "\n",
    "# Sort simList and print it\n",
    "Simlist.sort()\n",
    "print(\"The sorted simlist is:\",Simlist)\n",
    "\n",
    "# Copy simList to a third list\n",
    "Thirdlist = Simlist.copy()\n",
    "\n",
    "# Add secondList and thirdList together into a fourth list\n",
    "Fourthlist = Secondlist + Thirdlist\n",
    "print(\"The fourth list is:\", Fourthlist)\n",
    "\n",
    "\n"
   ]
  },
  {
   "cell_type": "code",
   "execution_count": null,
   "id": "e3e33ec0",
   "metadata": {},
   "outputs": [
    {
     "name": "stdout",
     "output_type": "stream",
     "text": [
      "The tuple2 result is: (7, 3, 9, 1, 5, 7, 3, 9, 1, 5, 7, 3, 9, 1, 5)\n",
      "The 12th element from the 2nd tuple is: 3\n",
      "The sorted tuple is: (1, 1, 1, 3, 3, 3, 5, 5, 5, 7, 7, 7, 9, 9, 9)\n",
      "Tuple3: (9, 7, 1, 7)\n",
      "Unpacked values from 3rd tuple: 9 7 1 7\n",
      "50\n",
      "(7, 3, 9, 1, 5, 7, 3, 9, 1, 5, 7, 3, 9, 1, 5, 9, 7, 1, 7)\n"
     ]
    }
   ],
   "source": [
    "# Create a tuple of about 5 elements\n",
    "tuple1 = (7, 3, 9, 1, 5)\n",
    "\n",
    "# Multiply your tuple by 3 and save it to a new 2nd tuple\n",
    "tuple2 = tuple1 * 3\n",
    "print(\"The tuple2 result is:\", tuple2)\n",
    "\n",
    "# print the 12th element from the 2nd tuple\n",
    "print(\"The 12th element from the 2nd tuple is:\" ,tuple2[11])\n",
    "\n",
    "# Sort the 2nd tuple and print it\n",
    "Sorted_tuple = tuple(sorted(tuple2))\n",
    "print(\"The sorted tuple is:\", Sorted_tuple)\n",
    "\n",
    "# Copy 4 specific elements from 2nd tuple to a 3rd tuple\n",
    "tuple3 = (tuple2[2], tuple2[5], tuple2[8], tuple2[10])\n",
    "print(\"Tuple3:\", tuple3)\n",
    "\n",
    "# Unpack the 3rd tuple into 4 variables and print these variables\n",
    "a,b,c,d = tuple3\n",
    "print(\"Unpacked values from 3rd tuple:\",a,b,c,d)\n",
    "\n",
    "# Create a 4th tuple with single item 50 and print this tuple\n",
    "tuple4 = (50)\n",
    "print(\"Tuple4:\",tuple4)\n",
    "\n",
    "# Add the 2nd and 3rd tuple together into a 5th tuple and print the tuple\n",
    "tuple5 = tuple2 + tuple3\n",
    "print(\"Tuple5:\",tuple5)"
   ]
  },
  {
   "cell_type": "code",
   "execution_count": 55,
   "id": "2add3762",
   "metadata": {},
   "outputs": [
    {
     "name": "stdout",
     "output_type": "stream",
     "text": [
      "The Final Result : {'Grapes', 'Orange', 'Cherry', 'Banana', 'Apple'}\n",
      "After adding Car to the set: {'Grapes', 'Orange', 'Cherry', 'Banana', 'car', 'Apple'}\n",
      "set2 values: {False, 'Name', 50, 'Age'}\n",
      "union of set1 and set2: {False, 'Grapes', 'Orange', 'Cherry', 'Age', 'Banana', 'Name', 50, 'car', 'Apple'}\n",
      "Popped item from set2: False\n",
      "Remaining of set2: {'Name', 50, 'Age'}\n",
      "cleared set1: set()\n",
      "Remaining values in set3: {False, 'Orange', 'Cherry', 'Age', 'Banana', 50, 'car', 'Apple'}\n"
     ]
    }
   ],
   "source": [
    "# Create a set of about 3 elements\n",
    "set1 = {\"Banana\",\"Grapes\",\"Orange\"}\n",
    "\n",
    "# Create a list of fruits\n",
    "Fruit_list = [\"Grapes\",\"Apple\",\"Cherry\"]\n",
    "\n",
    "# Add the list of fruits to the set and print\n",
    "set1.update(Fruit_list)\n",
    "print(\"The Final Result :\" ,set1)\n",
    "\n",
    "# Add a car element to your set\n",
    "set1.add(\"car\")\n",
    "print(\"After adding Car to the set:\", set1)\n",
    "\n",
    "# Create a 2nd set with a few odd items\n",
    "set2 = {\"Name\",50,False,\"Age\"}\n",
    "print(\"set2 values:\", set2)\n",
    "\n",
    "# Save the Union of set1 and set2 to set3\n",
    "set3 = set1.union(set2)\n",
    "print(\"union of set1 and set2:\", set3)\n",
    "\n",
    "# Pop an element from the 2nd set, and print the remainder\n",
    "Popped_Item = set2.pop()\n",
    "print(\"Popped item from set2:\", Popped_Item)\n",
    "print(\"Remaining of set2:\", set2)\n",
    "\n",
    "# Clear the 1st set and print the result\n",
    "set1.clear()\n",
    "print(\"cleared set1:\", set1)\n",
    "\n",
    "# Discard an element, and remove another element from the 3rd set\n",
    "set3.discard(\"Grapes\")\n",
    "set3.remove(\"Name\")\n",
    "print(\"Remaining values in set3:\",set3)"
   ]
  },
  {
   "cell_type": "code",
   "execution_count": null,
   "id": "fc17065c",
   "metadata": {},
   "outputs": [
    {
     "name": "stdout",
     "output_type": "stream",
     "text": [
      "Star\n",
      "{'name': 'Ajantha', 'no': 54, 'weight': 34.3, 'is_happy': True, 'hobbies': ['Reading', 'Playing']}\n",
      "{'name': 'Ajantha', 'no': 54, 'weight': 34.3, 'is_happy': True, 'hobbies': ['Reading', 'Playing'], 'favorite_color': 'Black', 'location': ('Missouri', 'st.louis')}\n",
      "['name', 'no', 'weight', 'is_happy', 'hobbies', 'favorite_color', 'location']\n",
      "['Ajantha', 54, 34.3, True, ['Reading', 'Playing'], 'Black', ('Missouri', 'st.louis')]\n",
      "{'name': 'Ajantha', 'no': 54, 'weight': 34.3, 'hobbies': ['Reading', 'Playing'], 'favorite_color': 'Black', 'location': ('Missouri', 'st.louis')}\n",
      "{}\n"
     ]
    }
   ],
   "source": [
    "# Create a dictionary with different types of values\n",
    "My_dict = {\n",
    "    \"name\" : \"Star\",\n",
    "    \"no\" : 54,\n",
    "    \"weight\" : 34.3,\n",
    "    \"is_happy\" : True,\n",
    "    \"hobbies\" : [\"Reading\",\"Playing\"]\n",
    "\n",
    "}\n",
    "\n",
    "# Print out 1 value\n",
    "print(My_dict[\"name\"])\n",
    "\n",
    "# Replace one value with your name\n",
    "My_dict[\"name\"] = \"Ajantha\"\n",
    "print(My_dict)\n",
    "\n",
    "# Add your favorite color\n",
    "My_dict[\"favorite_color\"] = \"Black\"\n",
    "\n",
    "# Add a list, tuple or set to your dictionary\n",
    "My_dict[\"location\"] = (\"Missouri\",\"st.louis\")\n",
    "print(My_dict)\n",
    "\n",
    "# Print list of keys\n",
    "print(list(My_dict.keys()))\n",
    "\n",
    "# Print a list of the dictionary values\n",
    "print(list(My_dict.values()))\n",
    "\n",
    "# Copy the dictionary\n",
    "Second_dict = My_dict.copy()\n",
    "\n",
    "# Pop an item and print the dictionary\n",
    "Second_dict.pop(\"is_happy\")\n",
    "print(Second_dict)\n",
    "\n",
    "# Clear the dictionary and print the result\n",
    "Second_dict.clear()\n",
    "print(Second_dict)\n"
   ]
  }
 ],
 "metadata": {
  "kernelspec": {
   "display_name": "Python 3",
   "language": "python",
   "name": "python3"
  },
  "language_info": {
   "codemirror_mode": {
    "name": "ipython",
    "version": 3
   },
   "file_extension": ".py",
   "mimetype": "text/x-python",
   "name": "python",
   "nbconvert_exporter": "python",
   "pygments_lexer": "ipython3",
   "version": "3.13.5"
  }
 },
 "nbformat": 4,
 "nbformat_minor": 5
}
